{
 "cells": [
  {
   "cell_type": "code",
   "execution_count": null,
   "id": "47a22084",
   "metadata": {},
   "outputs": [],
   "source": [
    "#imports\n",
    "import pandas as pd\n",
    "import sklearn\n",
    "import sklearn.tree\n",
    "import joblib\n",
    "import time\n",
    "import encoding\n",
    "import json"
   ]
  },
  {
   "cell_type": "code",
   "execution_count": null,
   "id": "07d6f775",
   "metadata": {},
   "outputs": [],
   "source": [
    "df = pd.read_csv(\"training_daa.csv\", index_col=0)\n",
    "#df = encoding.onehot(df)\n",
    "df, target_values = encoding.target(df)\n",
    "y = df[df.columns[0]] #basePrice\n",
    "X = df[df.columns[1:]] #allOthers"
   ]
  },
  {
   "cell_type": "code",
   "execution_count": null,
   "id": "950204e9",
   "metadata": {},
   "outputs": [],
   "source": [
    "model = sklearn.tree.DecisionTreeRegressor(random_state=1)\n",
    "#model = sklearn.linear_model.LinearRegression(fit_intercept=True)\n",
    "model.fit(X, y)\n",
    "model_name = str(time.time())\n",
    "joblib.dump(model, \"models/\" + model_name)\n",
    "model = joblib.load(\"models/\" + model_name)"
   ]
  },
  {
   "cell_type": "code",
   "execution_count": null,
   "id": "9bf2c51d",
   "metadata": {},
   "outputs": [],
   "source": [
    "'''\n",
    "#Special case of dumping target_values\n",
    "filename = \"target_values.json\"\n",
    "with open(filename, 'w') as file:\n",
    "    json.dump(target_values, file, indent=4)\n",
    "\n",
    "#Create index.html options\n",
    "EXPECTED_COLUMNS = [\n",
    "    'year', 'make', 'model', 'body', 'trim', 'mileage', 'newTireCount',\n",
    "    'exteriorColor', 'interiorColor', 'transmission', 'driveTrain',\n",
    "    'mpgCity', 'mpgHighway', 'cylinders', 'horsepower', 'horsepowerRpm',\n",
    "    'engineSize', 'engineTorque', 'engineTorqueRpm']\n",
    "CATEGORICAL_COLUMNS = ['make', 'model', 'body', 'trim', 'exteriorColor', \n",
    "                    'interiorColor', 'transmission', 'driveTrain']\n",
    "NUMERICAL_COLUMNS = ['year', 'mileage', 'newTireCount',\n",
    "    'mpgCity', 'mpgHighway', 'cylinders', 'horsepower', 'horsepowerRpm',\n",
    "    'engineSize', 'engineTorque', 'engineTorqueRpm']\n",
    "categorical_options = {}\n",
    "for i in CATEGORICAL_COLUMNS:\n",
    "    categorical_options[i] = list(df[i].unique())\n",
    "\n",
    "with open(\"categorical_options\", 'w') as file:\n",
    "    json.dump(categorical_options, file, indent=4)\n",
    "'''"
   ]
  }
 ],
 "metadata": {
  "kernelspec": {
   "display_name": "Python 3",
   "language": "python",
   "name": "python3"
  },
  "language_info": {
   "codemirror_mode": {
    "name": "ipython",
    "version": 3
   },
   "file_extension": ".py",
   "mimetype": "text/x-python",
   "name": "python",
   "nbconvert_exporter": "python",
   "pygments_lexer": "ipython3",
   "version": "3.12.4"
  }
 },
 "nbformat": 4,
 "nbformat_minor": 5
}
